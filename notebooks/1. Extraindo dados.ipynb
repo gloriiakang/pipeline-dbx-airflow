{
 "cells": [
  {
   "cell_type": "code",
   "execution_count": 0,
   "metadata": {
    "application/vnd.databricks.v1+cell": {
     "cellMetadata": {
      "byteLimit": 2048000,
      "rowLimit": 10000
     },
     "inputWidgets": {},
     "nuid": "88e5ac5c-1560-47cf-83f9-5bbed493bd1a",
     "showTitle": false,
     "tableResultSettingsMap": {},
     "title": ""
    }
   },
   "outputs": [],
   "source": [
    "dbutils.widgets.text(\"execution_date\", \"\")\n",
    "execution_date = dbutils.widgets.get(\"execution_date\")"
   ]
  },
  {
   "cell_type": "code",
   "execution_count": 0,
   "metadata": {
    "application/vnd.databricks.v1+cell": {
     "cellMetadata": {
      "byteLimit": 2048000,
      "rowLimit": 10000
     },
     "inputWidgets": {},
     "nuid": "2f4b83b9-78ce-4c58-a6fc-0a395ec1df15",
     "showTitle": false,
     "tableResultSettingsMap": {},
     "title": ""
    }
   },
   "outputs": [],
   "source": [
    "import requests\n",
    "from pyspark.sql.functions import lit"
   ]
  },
  {
   "cell_type": "code",
   "execution_count": 0,
   "metadata": {
    "application/vnd.databricks.v1+cell": {
     "cellMetadata": {
      "byteLimit": 2048000,
      "rowLimit": 10000
     },
     "inputWidgets": {},
     "nuid": "0c75f1d4-1742-4962-8df2-39607da5865f",
     "showTitle": false,
     "tableResultSettingsMap": {},
     "title": ""
    }
   },
   "outputs": [],
   "source": [
    "def extract_data(date, base=\"BRL\"):\n",
    "\n",
    "    url = f\"https://api.apilayer.com/exchangerates_data/{date}&base={base}\"\n",
    "\n",
    "    headers= {\n",
    "    \"apikey\": \"26fIuqF2C5C9BA52xsBxEF8YaAiXnddd\"\n",
    "    }\n",
    "\n",
    "    parameters = {\n",
    "        \"base\":base,\n",
    "        \"symbols\": \"USD,GBP,EUR\"\n",
    "        }\n",
    "    \n",
    "\n",
    "    response = requests.request(\"GET\", url, headers=headers, params=parameters)\n",
    "\n",
    "    if response.status_code != 200:\n",
    "        raise Exception(f'Request failed with status {response.status_code}')\n",
    "    return response.json()\n"
   ]
  },
  {
   "cell_type": "code",
   "execution_count": 0,
   "metadata": {
    "application/vnd.databricks.v1+cell": {
     "cellMetadata": {
      "byteLimit": 2048000,
      "rowLimit": 10000
     },
     "inputWidgets": {},
     "nuid": "1342b01b-cd65-4066-9fd5-1d460d76839b",
     "showTitle": false,
     "tableResultSettingsMap": {},
     "title": ""
    }
   },
   "outputs": [],
   "source": [
    "def data_to_df (data_json): \n",
    "    data_tuple = [(moeda, float (taxa)) for moeda, taxa in data_json[\"rates\"].items()]\n",
    "    \n",
    "    return data_tuple"
   ]
  },
  {
   "cell_type": "code",
   "execution_count": 0,
   "metadata": {
    "application/vnd.databricks.v1+cell": {
     "cellMetadata": {
      "byteLimit": 2048000,
      "rowLimit": 10000
     },
     "inputWidgets": {},
     "nuid": "018fd425-9922-4e98-93c6-222365ef20e1",
     "showTitle": false,
     "tableResultSettingsMap": {},
     "title": ""
    }
   },
   "outputs": [],
   "source": [
    "def save_parquet(extracted_conversions):\n",
    "    year, month, day = extracted_conversions['date'].split('-')\n",
    "    path = f\"dbfs:/databricks-results/bronze/{year}/{month}/{day}\"\n",
    "    response = data_to_df(extracted_conversions)\n",
    "    df_conversions = spark.createDataFrame(response, schema=[\"moeda\", \"taxa\"])\n",
    "    df_conversions = df_conversions.withColumn(\"date\", lit(f\"{year}-{month}-{day}\"))\n",
    "\n",
    "    df_conversions.write.format(\"parquet\").mode(\"overwrite\").save(path)\n",
    "\n",
    "    print(f\"Data saved to {path}\")\n"
   ]
  },
  {
   "cell_type": "code",
   "execution_count": 0,
   "metadata": {
    "application/vnd.databricks.v1+cell": {
     "cellMetadata": {
      "byteLimit": 2048000,
      "rowLimit": 10000
     },
     "inputWidgets": {},
     "nuid": "9b46ef48-3155-4fbd-9a87-9c8b0a9435b2",
     "showTitle": false,
     "tableResultSettingsMap": {},
     "title": ""
    }
   },
   "outputs": [],
   "source": [
    "exchange_rates = extract_data(execution_date)\n",
    "save_parquet(exchange_rates)"
   ]
  }
 ],
 "metadata": {
  "application/vnd.databricks.v1+notebook": {
   "computePreferences": null,
   "dashboards": [],
   "environmentMetadata": {
    "base_environment": "",
    "environment_version": "2"
   },
   "inputWidgetPreferences": null,
   "language": "python",
   "notebookMetadata": {
    "pythonIndentUnit": 4
   },
   "notebookName": "1. Extraindo dados",
   "widgets": {
    "execution_date": {
     "currentValue": "",
     "nuid": "7ca972a3-5634-492f-bbec-1e2f16629c65",
     "typedWidgetInfo": {
      "autoCreated": false,
      "defaultValue": "",
      "label": null,
      "name": "execution_date",
      "options": {
       "widgetDisplayType": "Text",
       "validationRegex": null
      },
      "parameterDataType": "String"
     },
     "widgetInfo": {
      "widgetType": "text",
      "defaultValue": "",
      "label": null,
      "name": "execution_date",
      "options": {
       "widgetType": "text",
       "autoCreated": false,
       "validationRegex": null
      }
     }
    }
   }
  },
  "language_info": {
   "name": "python"
  }
 },
 "nbformat": 4,
 "nbformat_minor": 0
}
